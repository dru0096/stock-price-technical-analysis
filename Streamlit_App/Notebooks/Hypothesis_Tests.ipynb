{
 "cells": [
  {
   "cell_type": "code",
   "execution_count": 1,
   "id": "c5cb373f",
   "metadata": {},
   "outputs": [],
   "source": [
    "## Any distribution plots for presentation visuals?"
   ]
  },
  {
   "cell_type": "code",
   "execution_count": 2,
   "id": "917e5a2a",
   "metadata": {},
   "outputs": [],
   "source": [
    "import pandas as pd\n",
    "import numpy as np\n",
    "import seaborn as sns\n",
    "import matplotlib.pyplot as plt\n",
    "import scipy.stats as st"
   ]
  },
  {
   "cell_type": "markdown",
   "id": "7dbe7411",
   "metadata": {},
   "source": [
    "## Hammers:\n",
    "         h0 = mean return >0\n",
    "         h1 = mean return <0         "
   ]
  },
  {
   "cell_type": "code",
   "execution_count": 7,
   "id": "ca0e122b",
   "metadata": {},
   "outputs": [],
   "source": [
    "hammer_samples=pd.read_csv('/Users/devirughani/Desktop/Ironhack/Week_9_Final/Streamlit_App/Data/Hypothesis_Test_Sample_Data/hammer_samples.csv')"
   ]
  },
  {
   "cell_type": "code",
   "execution_count": 8,
   "id": "7c6a8fab",
   "metadata": {},
   "outputs": [
    {
     "data": {
      "text/plain": [
       "Date                       object\n",
       "Open                      float64\n",
       "High                      float64\n",
       "Low                       float64\n",
       "Close                     float64\n",
       "Hammer                      int64\n",
       "Return % 5 days after     float64\n",
       "Return % 14 days after    float64\n",
       "Return % 28 days after     object\n",
       "dtype: object"
      ]
     },
     "execution_count": 8,
     "metadata": {},
     "output_type": "execute_result"
    }
   ],
   "source": [
    "hammer_samples.dtypes"
   ]
  },
  {
   "cell_type": "code",
   "execution_count": 9,
   "id": "03f8396b",
   "metadata": {},
   "outputs": [],
   "source": [
    "hammer_samples['Return % 28 days after'] = hammer_samples['Return % 28 days after'].replace(' ', np.nan)   "
   ]
  },
  {
   "cell_type": "code",
   "execution_count": 10,
   "id": "ea69d3a8",
   "metadata": {},
   "outputs": [
    {
     "data": {
      "text/plain": [
       "Date                      0\n",
       "Open                      0\n",
       "High                      0\n",
       "Low                       0\n",
       "Close                     0\n",
       "Hammer                    0\n",
       "Return % 5 days after     0\n",
       "Return % 14 days after    0\n",
       "Return % 28 days after    2\n",
       "dtype: int64"
      ]
     },
     "execution_count": 10,
     "metadata": {},
     "output_type": "execute_result"
    }
   ],
   "source": [
    "hammer_samples.isna().sum()"
   ]
  },
  {
   "cell_type": "code",
   "execution_count": 11,
   "id": "ada74ffe",
   "metadata": {},
   "outputs": [],
   "source": [
    "hammer_samples=hammer_samples.dropna()"
   ]
  },
  {
   "cell_type": "code",
   "execution_count": 12,
   "id": "575094e6",
   "metadata": {},
   "outputs": [],
   "source": [
    "hammer_samples['Return % 28 days after']= pd.to_numeric(hammer_samples[\"Return % 28 days after\"])"
   ]
  },
  {
   "cell_type": "code",
   "execution_count": 13,
   "id": "7f4c9a1b",
   "metadata": {},
   "outputs": [
    {
     "data": {
      "text/html": [
       "<div>\n",
       "<style scoped>\n",
       "    .dataframe tbody tr th:only-of-type {\n",
       "        vertical-align: middle;\n",
       "    }\n",
       "\n",
       "    .dataframe tbody tr th {\n",
       "        vertical-align: top;\n",
       "    }\n",
       "\n",
       "    .dataframe thead th {\n",
       "        text-align: right;\n",
       "    }\n",
       "</style>\n",
       "<table border=\"1\" class=\"dataframe\">\n",
       "  <thead>\n",
       "    <tr style=\"text-align: right;\">\n",
       "      <th></th>\n",
       "      <th>Open</th>\n",
       "      <th>High</th>\n",
       "      <th>Low</th>\n",
       "      <th>Close</th>\n",
       "      <th>Hammer</th>\n",
       "      <th>Return % 5 days after</th>\n",
       "      <th>Return % 14 days after</th>\n",
       "      <th>Return % 28 days after</th>\n",
       "    </tr>\n",
       "  </thead>\n",
       "  <tbody>\n",
       "    <tr>\n",
       "      <th>count</th>\n",
       "      <td>213.000000</td>\n",
       "      <td>213.000000</td>\n",
       "      <td>213.000000</td>\n",
       "      <td>213.000000</td>\n",
       "      <td>213.0</td>\n",
       "      <td>213.000000</td>\n",
       "      <td>213.000000</td>\n",
       "      <td>213.000000</td>\n",
       "    </tr>\n",
       "    <tr>\n",
       "      <th>mean</th>\n",
       "      <td>1141.722535</td>\n",
       "      <td>1148.558216</td>\n",
       "      <td>1090.745305</td>\n",
       "      <td>1136.525587</td>\n",
       "      <td>1.0</td>\n",
       "      <td>-0.552674</td>\n",
       "      <td>0.267411</td>\n",
       "      <td>2.574952</td>\n",
       "    </tr>\n",
       "    <tr>\n",
       "      <th>std</th>\n",
       "      <td>1317.152583</td>\n",
       "      <td>1324.702459</td>\n",
       "      <td>1270.366090</td>\n",
       "      <td>1312.636356</td>\n",
       "      <td>0.0</td>\n",
       "      <td>6.112993</td>\n",
       "      <td>13.360121</td>\n",
       "      <td>16.131633</td>\n",
       "    </tr>\n",
       "    <tr>\n",
       "      <th>min</th>\n",
       "      <td>83.300000</td>\n",
       "      <td>83.300000</td>\n",
       "      <td>80.200000</td>\n",
       "      <td>83.100000</td>\n",
       "      <td>1.0</td>\n",
       "      <td>-24.708995</td>\n",
       "      <td>-79.384183</td>\n",
       "      <td>-79.188809</td>\n",
       "    </tr>\n",
       "    <tr>\n",
       "      <th>25%</th>\n",
       "      <td>263.300000</td>\n",
       "      <td>263.700000</td>\n",
       "      <td>250.000000</td>\n",
       "      <td>262.400000</td>\n",
       "      <td>1.0</td>\n",
       "      <td>-4.172658</td>\n",
       "      <td>-6.373626</td>\n",
       "      <td>-5.627414</td>\n",
       "    </tr>\n",
       "    <tr>\n",
       "      <th>50%</th>\n",
       "      <td>640.050000</td>\n",
       "      <td>640.050000</td>\n",
       "      <td>602.400000</td>\n",
       "      <td>627.750000</td>\n",
       "      <td>1.0</td>\n",
       "      <td>-0.938202</td>\n",
       "      <td>0.006410</td>\n",
       "      <td>1.366358</td>\n",
       "    </tr>\n",
       "    <tr>\n",
       "      <th>75%</th>\n",
       "      <td>1348.000000</td>\n",
       "      <td>1353.500000</td>\n",
       "      <td>1248.000000</td>\n",
       "      <td>1317.900000</td>\n",
       "      <td>1.0</td>\n",
       "      <td>3.114286</td>\n",
       "      <td>4.880290</td>\n",
       "      <td>10.025000</td>\n",
       "    </tr>\n",
       "    <tr>\n",
       "      <th>max</th>\n",
       "      <td>5570.000000</td>\n",
       "      <td>5589.850000</td>\n",
       "      <td>5425.000000</td>\n",
       "      <td>5531.050000</td>\n",
       "      <td>1.0</td>\n",
       "      <td>22.122093</td>\n",
       "      <td>66.149964</td>\n",
       "      <td>107.173756</td>\n",
       "    </tr>\n",
       "  </tbody>\n",
       "</table>\n",
       "</div>"
      ],
      "text/plain": [
       "              Open         High          Low        Close  Hammer  \\\n",
       "count   213.000000   213.000000   213.000000   213.000000   213.0   \n",
       "mean   1141.722535  1148.558216  1090.745305  1136.525587     1.0   \n",
       "std    1317.152583  1324.702459  1270.366090  1312.636356     0.0   \n",
       "min      83.300000    83.300000    80.200000    83.100000     1.0   \n",
       "25%     263.300000   263.700000   250.000000   262.400000     1.0   \n",
       "50%     640.050000   640.050000   602.400000   627.750000     1.0   \n",
       "75%    1348.000000  1353.500000  1248.000000  1317.900000     1.0   \n",
       "max    5570.000000  5589.850000  5425.000000  5531.050000     1.0   \n",
       "\n",
       "       Return % 5 days after  Return % 14 days after  Return % 28 days after  \n",
       "count             213.000000              213.000000              213.000000  \n",
       "mean               -0.552674                0.267411                2.574952  \n",
       "std                 6.112993               13.360121               16.131633  \n",
       "min               -24.708995              -79.384183              -79.188809  \n",
       "25%                -4.172658               -6.373626               -5.627414  \n",
       "50%                -0.938202                0.006410                1.366358  \n",
       "75%                 3.114286                4.880290               10.025000  \n",
       "max                22.122093               66.149964              107.173756  "
      ]
     },
     "execution_count": 13,
     "metadata": {},
     "output_type": "execute_result"
    }
   ],
   "source": [
    "hammer_samples.describe()"
   ]
  },
  {
   "cell_type": "markdown",
   "id": "fceda77a",
   "metadata": {},
   "source": [
    "## 5 days"
   ]
  },
  {
   "cell_type": "code",
   "execution_count": 14,
   "id": "31f9ce3d",
   "metadata": {},
   "outputs": [
    {
     "data": {
      "text/plain": [
       "-0.5526735116307503"
      ]
     },
     "execution_count": 14,
     "metadata": {},
     "output_type": "execute_result"
    }
   ],
   "source": [
    "five_day_mean_ham=hammer_samples['Return % 5 days after'].mean()\n",
    "five_day_mean_ham"
   ]
  },
  {
   "cell_type": "code",
   "execution_count": 15,
   "id": "ff390a70",
   "metadata": {},
   "outputs": [],
   "source": [
    "five_day_data_ham=hammer_samples['Return % 5 days after']"
   ]
  },
  {
   "cell_type": "code",
   "execution_count": 16,
   "id": "9ef99f44",
   "metadata": {},
   "outputs": [
    {
     "name": "stdout",
     "output_type": "stream",
     "text": [
      "The t statistic of our sample is: -1.32 and the corresponding p-value is: 0.09\n"
     ]
    }
   ],
   "source": [
    "t_statistic, p_value = st.ttest_1samp(five_day_data_ham, popmean =0, alternative = \"less\")\n",
    "print(\"The t statistic of our sample is: {:.2f} and the corresponding p-value is: {:.2f}\".format(t_statistic, p_value))"
   ]
  },
  {
   "cell_type": "code",
   "execution_count": 17,
   "id": "bedeb3cc",
   "metadata": {},
   "outputs": [
    {
     "data": {
      "text/plain": [
       "-1.6520729200433553"
      ]
     },
     "execution_count": 17,
     "metadata": {},
     "output_type": "execute_result"
    }
   ],
   "source": [
    "st.t.ppf(0.05, df = 212)"
   ]
  },
  {
   "cell_type": "code",
   "execution_count": 46,
   "id": "c8080a66",
   "metadata": {},
   "outputs": [
    {
     "ename": "TypeError",
     "evalue": "plot got an unexpected keyword argument 'y'",
     "output_type": "error",
     "traceback": [
      "\u001b[0;31m---------------------------------------------------------------------------\u001b[0m",
      "\u001b[0;31mTypeError\u001b[0m                                 Traceback (most recent call last)",
      "\u001b[0;32m/var/folders/mw/6447zlmn5h9_r3fs75_lzjgm0000gn/T/ipykernel_42798/4171699909.py\u001b[0m in \u001b[0;36m<module>\u001b[0;34m\u001b[0m\n\u001b[1;32m      1\u001b[0m \u001b[0mx\u001b[0m \u001b[0;34m=\u001b[0m \u001b[0mnp\u001b[0m\u001b[0;34m.\u001b[0m\u001b[0mlinspace\u001b[0m\u001b[0;34m(\u001b[0m\u001b[0;36m83\u001b[0m\u001b[0;34m,\u001b[0m \u001b[0;36m5570\u001b[0m\u001b[0;34m,\u001b[0m \u001b[0;36m213\u001b[0m\u001b[0;34m)\u001b[0m\u001b[0;34m\u001b[0m\u001b[0;34m\u001b[0m\u001b[0m\n\u001b[1;32m      2\u001b[0m \u001b[0my\u001b[0m \u001b[0;34m=\u001b[0m \u001b[0mst\u001b[0m\u001b[0;34m.\u001b[0m\u001b[0mt\u001b[0m\u001b[0;34m.\u001b[0m\u001b[0mpdf\u001b[0m\u001b[0;34m(\u001b[0m\u001b[0mx\u001b[0m\u001b[0;34m,\u001b[0m \u001b[0mdf\u001b[0m\u001b[0;34m=\u001b[0m\u001b[0;36m212\u001b[0m\u001b[0;34m)\u001b[0m\u001b[0;34m\u001b[0m\u001b[0;34m\u001b[0m\u001b[0m\n\u001b[0;32m----> 3\u001b[0;31m \u001b[0mplt\u001b[0m\u001b[0;34m.\u001b[0m\u001b[0mplot\u001b[0m\u001b[0;34m(\u001b[0m\u001b[0my\u001b[0m \u001b[0;34m=\u001b[0m \u001b[0my\u001b[0m\u001b[0;34m)\u001b[0m\u001b[0;34m\u001b[0m\u001b[0;34m\u001b[0m\u001b[0m\n\u001b[0m\u001b[1;32m      4\u001b[0m \u001b[0mplt\u001b[0m\u001b[0;34m.\u001b[0m\u001b[0mshow\u001b[0m\u001b[0;34m(\u001b[0m\u001b[0;34m)\u001b[0m\u001b[0;34m\u001b[0m\u001b[0;34m\u001b[0m\u001b[0m\n",
      "\u001b[0;32m~/opt/anaconda3/lib/python3.9/site-packages/matplotlib/pyplot.py\u001b[0m in \u001b[0;36mplot\u001b[0;34m(scalex, scaley, data, *args, **kwargs)\u001b[0m\n\u001b[1;32m   3017\u001b[0m \u001b[0;34m@\u001b[0m\u001b[0m_copy_docstring_and_deprecators\u001b[0m\u001b[0;34m(\u001b[0m\u001b[0mAxes\u001b[0m\u001b[0;34m.\u001b[0m\u001b[0mplot\u001b[0m\u001b[0;34m)\u001b[0m\u001b[0;34m\u001b[0m\u001b[0;34m\u001b[0m\u001b[0m\n\u001b[1;32m   3018\u001b[0m \u001b[0;32mdef\u001b[0m \u001b[0mplot\u001b[0m\u001b[0;34m(\u001b[0m\u001b[0;34m*\u001b[0m\u001b[0margs\u001b[0m\u001b[0;34m,\u001b[0m \u001b[0mscalex\u001b[0m\u001b[0;34m=\u001b[0m\u001b[0;32mTrue\u001b[0m\u001b[0;34m,\u001b[0m \u001b[0mscaley\u001b[0m\u001b[0;34m=\u001b[0m\u001b[0;32mTrue\u001b[0m\u001b[0;34m,\u001b[0m \u001b[0mdata\u001b[0m\u001b[0;34m=\u001b[0m\u001b[0;32mNone\u001b[0m\u001b[0;34m,\u001b[0m \u001b[0;34m**\u001b[0m\u001b[0mkwargs\u001b[0m\u001b[0;34m)\u001b[0m\u001b[0;34m:\u001b[0m\u001b[0;34m\u001b[0m\u001b[0;34m\u001b[0m\u001b[0m\n\u001b[0;32m-> 3019\u001b[0;31m     return gca().plot(\n\u001b[0m\u001b[1;32m   3020\u001b[0m         \u001b[0;34m*\u001b[0m\u001b[0margs\u001b[0m\u001b[0;34m,\u001b[0m \u001b[0mscalex\u001b[0m\u001b[0;34m=\u001b[0m\u001b[0mscalex\u001b[0m\u001b[0;34m,\u001b[0m \u001b[0mscaley\u001b[0m\u001b[0;34m=\u001b[0m\u001b[0mscaley\u001b[0m\u001b[0;34m,\u001b[0m\u001b[0;34m\u001b[0m\u001b[0;34m\u001b[0m\u001b[0m\n\u001b[1;32m   3021\u001b[0m         **({\"data\": data} if data is not None else {}), **kwargs)\n",
      "\u001b[0;32m~/opt/anaconda3/lib/python3.9/site-packages/matplotlib/axes/_axes.py\u001b[0m in \u001b[0;36mplot\u001b[0;34m(self, scalex, scaley, data, *args, **kwargs)\u001b[0m\n\u001b[1;32m   1603\u001b[0m         \"\"\"\n\u001b[1;32m   1604\u001b[0m         \u001b[0mkwargs\u001b[0m \u001b[0;34m=\u001b[0m \u001b[0mcbook\u001b[0m\u001b[0;34m.\u001b[0m\u001b[0mnormalize_kwargs\u001b[0m\u001b[0;34m(\u001b[0m\u001b[0mkwargs\u001b[0m\u001b[0;34m,\u001b[0m \u001b[0mmlines\u001b[0m\u001b[0;34m.\u001b[0m\u001b[0mLine2D\u001b[0m\u001b[0;34m)\u001b[0m\u001b[0;34m\u001b[0m\u001b[0;34m\u001b[0m\u001b[0m\n\u001b[0;32m-> 1605\u001b[0;31m         \u001b[0mlines\u001b[0m \u001b[0;34m=\u001b[0m \u001b[0;34m[\u001b[0m\u001b[0;34m*\u001b[0m\u001b[0mself\u001b[0m\u001b[0;34m.\u001b[0m\u001b[0m_get_lines\u001b[0m\u001b[0;34m(\u001b[0m\u001b[0;34m*\u001b[0m\u001b[0margs\u001b[0m\u001b[0;34m,\u001b[0m \u001b[0mdata\u001b[0m\u001b[0;34m=\u001b[0m\u001b[0mdata\u001b[0m\u001b[0;34m,\u001b[0m \u001b[0;34m**\u001b[0m\u001b[0mkwargs\u001b[0m\u001b[0;34m)\u001b[0m\u001b[0;34m]\u001b[0m\u001b[0;34m\u001b[0m\u001b[0;34m\u001b[0m\u001b[0m\n\u001b[0m\u001b[1;32m   1606\u001b[0m         \u001b[0;32mfor\u001b[0m \u001b[0mline\u001b[0m \u001b[0;32min\u001b[0m \u001b[0mlines\u001b[0m\u001b[0;34m:\u001b[0m\u001b[0;34m\u001b[0m\u001b[0;34m\u001b[0m\u001b[0m\n\u001b[1;32m   1607\u001b[0m             \u001b[0mself\u001b[0m\u001b[0;34m.\u001b[0m\u001b[0madd_line\u001b[0m\u001b[0;34m(\u001b[0m\u001b[0mline\u001b[0m\u001b[0;34m)\u001b[0m\u001b[0;34m\u001b[0m\u001b[0;34m\u001b[0m\u001b[0m\n",
      "\u001b[0;32m~/opt/anaconda3/lib/python3.9/site-packages/matplotlib/axes/_base.py\u001b[0m in \u001b[0;36m__call__\u001b[0;34m(self, data, *args, **kwargs)\u001b[0m\n\u001b[1;32m    248\u001b[0m         \u001b[0;32mfor\u001b[0m \u001b[0mpos_only\u001b[0m \u001b[0;32min\u001b[0m \u001b[0;34m\"xy\"\u001b[0m\u001b[0;34m:\u001b[0m\u001b[0;34m\u001b[0m\u001b[0;34m\u001b[0m\u001b[0m\n\u001b[1;32m    249\u001b[0m             \u001b[0;32mif\u001b[0m \u001b[0mpos_only\u001b[0m \u001b[0;32min\u001b[0m \u001b[0mkwargs\u001b[0m\u001b[0;34m:\u001b[0m\u001b[0;34m\u001b[0m\u001b[0;34m\u001b[0m\u001b[0m\n\u001b[0;32m--> 250\u001b[0;31m                 raise TypeError(\"{} got an unexpected keyword argument {!r}\"\n\u001b[0m\u001b[1;32m    251\u001b[0m                                 .format(self.command, pos_only))\n\u001b[1;32m    252\u001b[0m \u001b[0;34m\u001b[0m\u001b[0m\n",
      "\u001b[0;31mTypeError\u001b[0m: plot got an unexpected keyword argument 'y'"
     ]
    },
    {
     "data": {
      "image/png": "[encoded data removed]",
      "text/plain": [
       "<Figure size 432x288 with 1 Axes>"
      ]
     },
     "metadata": {
      "needs_background": "light"
     },
     "output_type": "display_data"
    }
   ],
   "source": [
    "x = np.linspace(83, 5570, 213)\n",
    "y = st.t.pdf(x, df=212)\n",
    "plt.plot(x = x, y = y)\n",
    "plt.show()\n"
   ]
  },
  {
   "cell_type": "code",
   "execution_count": 49,
   "id": "508b2802",
   "metadata": {},
   "outputs": [
    {
     "name": "stderr",
     "output_type": "stream",
     "text": [
      "/Users/devirughani/opt/anaconda3/lib/python3.9/site-packages/seaborn/distributions.py:2619: FutureWarning: `distplot` is a deprecated function and will be removed in a future version. Please adapt your code to use either `displot` (a figure-level function with similar flexibility) or `kdeplot` (an axes-level function for kernel density plots).\n",
      "  warnings.warn(msg, FutureWarning)\n",
      "No handles with labels found to put in legend.\n"
     ]
    },
    {
     "data": {
      "text/plain": [
       "Text(0, 0.5, 'Density')"
      ]
     },
     "execution_count": 49,
     "metadata": {},
     "output_type": "execute_result"
    },
    {
     "data": {
      "image/png": "[encoded data removed]",
      "text/plain": [
       "<Figure size 432x288 with 1 Axes>"
      ]
     },
     "metadata": {
      "needs_background": "light"
     },
     "output_type": "display_data"
    }
   ],
   "source": [
    "sns.distplot(five_day_data_ham, hist = False, kde = True,\n",
    "                 kde_kws = {'linewidth': 3})\n",
    "    \n",
    "# Plot formatting\n",
    "plt.legend(prop={'size': 16})\n",
    "plt.xlabel('Return')\n",
    "plt.ylabel('Density')"
   ]
  },
  {
   "cell_type": "code",
   "execution_count": 60,
   "id": "beca0c61",
   "metadata": {},
   "outputs": [
    {
     "data": {
      "text/plain": [
       "40.845070422535215"
      ]
     },
     "execution_count": 60,
     "metadata": {},
     "output_type": "execute_result"
    }
   ],
   "source": [
    "(sum(five_day_data_ham>0)/len(five_day_data_ham))*100"
   ]
  },
  {
   "cell_type": "markdown",
   "id": "b5f368f3",
   "metadata": {},
   "source": [
    "## 14 days"
   ]
  },
  {
   "cell_type": "code",
   "execution_count": 18,
   "id": "622cd726",
   "metadata": {},
   "outputs": [
    {
     "data": {
      "text/plain": [
       "'0.27'"
      ]
     },
     "execution_count": 18,
     "metadata": {},
     "output_type": "execute_result"
    }
   ],
   "source": [
    "fourteen_day_mean_ham=hammer_samples['Return % 14 days after'].mean()\n",
    "'{:.2f}'.format(fourteen_day_mean_ham)"
   ]
  },
  {
   "cell_type": "code",
   "execution_count": 19,
   "id": "2ddfadff",
   "metadata": {},
   "outputs": [],
   "source": [
    "fourteen_day_data_ham=hammer_samples['Return % 14 days after']"
   ]
  },
  {
   "cell_type": "code",
   "execution_count": 20,
   "id": "97004bee",
   "metadata": {},
   "outputs": [
    {
     "name": "stdout",
     "output_type": "stream",
     "text": [
      "The t statistic of our sample is: 0.29 and the corresponding p-value is: 0.61\n"
     ]
    }
   ],
   "source": [
    "t_statistic, p_value = st.ttest_1samp(fourteen_day_data_ham, popmean = 0, alternative = \"less\")\n",
    "print(\"The t statistic of our sample is: {:.2f} and the corresponding p-value is: {:.2f}\".format(t_statistic, p_value))"
   ]
  },
  {
   "cell_type": "code",
   "execution_count": 51,
   "id": "312cbb62",
   "metadata": {},
   "outputs": [
    {
     "name": "stderr",
     "output_type": "stream",
     "text": [
      "/Users/devirughani/opt/anaconda3/lib/python3.9/site-packages/seaborn/distributions.py:2619: FutureWarning: `distplot` is a deprecated function and will be removed in a future version. Please adapt your code to use either `displot` (a figure-level function with similar flexibility) or `kdeplot` (an axes-level function for kernel density plots).\n",
      "  warnings.warn(msg, FutureWarning)\n",
      "No handles with labels found to put in legend.\n"
     ]
    },
    {
     "data": {
      "text/plain": [
       "Text(0, 0.5, 'Density')"
      ]
     },
     "execution_count": 51,
     "metadata": {},
     "output_type": "execute_result"
    },
    {
     "data": {
      "image/png": "[encoded data removed]",
      "text/plain": [
       "<Figure size 432x288 with 1 Axes>"
      ]
     },
     "metadata": {
      "needs_background": "light"
     },
     "output_type": "display_data"
    }
   ],
   "source": [
    "sns.distplot(fourteen_day_data_ham, hist = False, kde = True,\n",
    "                 kde_kws = {'linewidth': 3})\n",
    "    \n",
    "# Plot formatting\n",
    "plt.legend(prop={'size': 16})\n",
    "plt.xlabel('Return')\n",
    "plt.ylabel('Density')"
   ]
  },
  {
   "cell_type": "code",
   "execution_count": 63,
   "id": "2798cc7f",
   "metadata": {},
   "outputs": [
    {
     "data": {
      "text/plain": [
       "50.23474178403756"
      ]
     },
     "execution_count": 63,
     "metadata": {},
     "output_type": "execute_result"
    }
   ],
   "source": [
    "(sum(fourteen_day_data_ham>0)/len(fourteen_day_data_ham))*100"
   ]
  },
  {
   "cell_type": "markdown",
   "id": "04637593",
   "metadata": {},
   "source": [
    "## 28 days"
   ]
  },
  {
   "cell_type": "code",
   "execution_count": 21,
   "id": "398a0af6",
   "metadata": {},
   "outputs": [
    {
     "data": {
      "text/plain": [
       "2.5749515800304885"
      ]
     },
     "execution_count": 21,
     "metadata": {},
     "output_type": "execute_result"
    }
   ],
   "source": [
    "twentyeight_day_mean_ham=hammer_samples['Return % 28 days after'].mean()\n",
    "twentyeight_day_mean_ham"
   ]
  },
  {
   "cell_type": "code",
   "execution_count": 22,
   "id": "dba4af4d",
   "metadata": {},
   "outputs": [
    {
     "data": {
      "text/plain": [
       "0     -10.811111\n",
       "1      -6.322702\n",
       "2       2.226230\n",
       "3       1.819085\n",
       "4       5.103448\n",
       "         ...    \n",
       "210   -10.388946\n",
       "211   -23.980041\n",
       "212    26.969697\n",
       "213    38.705882\n",
       "214    21.825095\n",
       "Name: Return % 28 days after, Length: 213, dtype: float64"
      ]
     },
     "execution_count": 22,
     "metadata": {},
     "output_type": "execute_result"
    }
   ],
   "source": [
    "twentyeight_day_data_ham=hammer_samples['Return % 28 days after']\n",
    "twentyeight_day_data_ham"
   ]
  },
  {
   "cell_type": "code",
   "execution_count": 23,
   "id": "91b4d536",
   "metadata": {
    "scrolled": true
   },
   "outputs": [
    {
     "name": "stdout",
     "output_type": "stream",
     "text": [
      "The t statistic of our sample is: 2.33 and the corresponding p-value is: 0.99\n"
     ]
    }
   ],
   "source": [
    "t_statistic, p_value = st.ttest_1samp(twentyeight_day_data_ham, popmean = 0, alternative = \"less\")\n",
    "print(\"The t statistic of our sample is: {:.2f} and the corresponding p-value is: {:.2f}\".format(t_statistic, p_value))"
   ]
  },
  {
   "cell_type": "code",
   "execution_count": 62,
   "id": "8299e71c",
   "metadata": {},
   "outputs": [
    {
     "data": {
      "text/plain": [
       "55.39906103286385"
      ]
     },
     "execution_count": 62,
     "metadata": {},
     "output_type": "execute_result"
    }
   ],
   "source": [
    "(sum(twentyeight_day_data_ham>0)/len(twentyeight_day_data_ham))*100"
   ]
  },
  {
   "cell_type": "code",
   "execution_count": 24,
   "id": "1f96210d",
   "metadata": {},
   "outputs": [],
   "source": [
    "#twentyeight_day_mean_ham = hammer_samples['Return % 28 days after'].mean()\n",
    "#twentyeight_day_std_ham = hammer_samples['Return % 28 days after'].std(ddof=1)\n",
    "#t = ( twentyeight_day_mean_ham  - 0) / ( twentyeight_day_std_ham / np.sqrt(213))\n",
    "#print(\"The mean of our sample is {:.2f}\".format(twentyeight_day_mean_ham))\n",
    "#print(\"The std of our sample is {:.2f}\".format(twentyeight_day_std_ham))\n",
    "#print(\"The t statistic of our sample is {:.2f}\".format(t))"
   ]
  },
  {
   "cell_type": "code",
   "execution_count": 52,
   "id": "a263b49b",
   "metadata": {},
   "outputs": [
    {
     "name": "stderr",
     "output_type": "stream",
     "text": [
      "/Users/devirughani/opt/anaconda3/lib/python3.9/site-packages/seaborn/distributions.py:2619: FutureWarning: `distplot` is a deprecated function and will be removed in a future version. Please adapt your code to use either `displot` (a figure-level function with similar flexibility) or `kdeplot` (an axes-level function for kernel density plots).\n",
      "  warnings.warn(msg, FutureWarning)\n",
      "No handles with labels found to put in legend.\n"
     ]
    },
    {
     "data": {
      "text/plain": [
       "Text(0, 0.5, 'Density')"
      ]
     },
     "execution_count": 52,
     "metadata": {},
     "output_type": "execute_result"
    },
    {
     "data": {
      "image/png": "[encoded data removed]",
      "text/plain": [
       "<Figure size 432x288 with 1 Axes>"
      ]
     },
     "metadata": {
      "needs_background": "light"
     },
     "output_type": "display_data"
    }
   ],
   "source": [
    "sns.distplot(twentyeight_day_data_ham, hist = False, kde = True,\n",
    "                 kde_kws = {'linewidth': 3})\n",
    "plt.legend(prop={'size': 16})\n",
    "plt.xlabel('Return')\n",
    "plt.ylabel('Density')"
   ]
  },
  {
   "cell_type": "markdown",
   "id": "960e063d",
   "metadata": {},
   "source": [
    "## Shooting Stars\n",
    "     h0 = mean return >0\n",
    "     h1 = mean return <0"
   ]
  },
  {
   "cell_type": "code",
   "execution_count": 29,
   "id": "2ec75129",
   "metadata": {},
   "outputs": [],
   "source": [
    "shooting_star_samples=pd.read_csv('/Users/devirughani/Desktop/Ironhack/Week_9_Final/Streamlit_App/Data/Hypothesis_Test_Sample_Data/shooting_star_samples.csv')"
   ]
  },
  {
   "cell_type": "code",
   "execution_count": 30,
   "id": "6cd572ec",
   "metadata": {},
   "outputs": [
    {
     "data": {
      "text/html": [
       "<div>\n",
       "<style scoped>\n",
       "    .dataframe tbody tr th:only-of-type {\n",
       "        vertical-align: middle;\n",
       "    }\n",
       "\n",
       "    .dataframe tbody tr th {\n",
       "        vertical-align: top;\n",
       "    }\n",
       "\n",
       "    .dataframe thead th {\n",
       "        text-align: right;\n",
       "    }\n",
       "</style>\n",
       "<table border=\"1\" class=\"dataframe\">\n",
       "  <thead>\n",
       "    <tr style=\"text-align: right;\">\n",
       "      <th></th>\n",
       "      <th>Open</th>\n",
       "      <th>High</th>\n",
       "      <th>Low</th>\n",
       "      <th>Close</th>\n",
       "      <th>Shooting Star</th>\n",
       "      <th>Return % 5 days after</th>\n",
       "      <th>Return % 14 days after</th>\n",
       "      <th>Return % 28 days after</th>\n",
       "    </tr>\n",
       "  </thead>\n",
       "  <tbody>\n",
       "    <tr>\n",
       "      <th>count</th>\n",
       "      <td>266.000000</td>\n",
       "      <td>266.000000</td>\n",
       "      <td>266.000000</td>\n",
       "      <td>266.000000</td>\n",
       "      <td>266.0</td>\n",
       "      <td>266.000000</td>\n",
       "      <td>264.000000</td>\n",
       "      <td>263.000000</td>\n",
       "    </tr>\n",
       "    <tr>\n",
       "      <th>mean</th>\n",
       "      <td>1216.859023</td>\n",
       "      <td>1268.389098</td>\n",
       "      <td>1210.878008</td>\n",
       "      <td>1224.938346</td>\n",
       "      <td>1.0</td>\n",
       "      <td>0.009960</td>\n",
       "      <td>-0.192218</td>\n",
       "      <td>-1.284491</td>\n",
       "    </tr>\n",
       "    <tr>\n",
       "      <th>std</th>\n",
       "      <td>1290.007135</td>\n",
       "      <td>1344.721994</td>\n",
       "      <td>1283.078810</td>\n",
       "      <td>1297.607201</td>\n",
       "      <td>0.0</td>\n",
       "      <td>6.039616</td>\n",
       "      <td>10.595355</td>\n",
       "      <td>15.136507</td>\n",
       "    </tr>\n",
       "    <tr>\n",
       "      <th>min</th>\n",
       "      <td>38.950000</td>\n",
       "      <td>43.900000</td>\n",
       "      <td>38.250000</td>\n",
       "      <td>38.950000</td>\n",
       "      <td>1.0</td>\n",
       "      <td>-33.999355</td>\n",
       "      <td>-40.720339</td>\n",
       "      <td>-48.465473</td>\n",
       "    </tr>\n",
       "    <tr>\n",
       "      <th>25%</th>\n",
       "      <td>276.425000</td>\n",
       "      <td>290.700000</td>\n",
       "      <td>276.200000</td>\n",
       "      <td>277.775000</td>\n",
       "      <td>1.0</td>\n",
       "      <td>-2.269641</td>\n",
       "      <td>-5.660660</td>\n",
       "      <td>-9.239277</td>\n",
       "    </tr>\n",
       "    <tr>\n",
       "      <th>50%</th>\n",
       "      <td>779.000000</td>\n",
       "      <td>822.275000</td>\n",
       "      <td>773.900000</td>\n",
       "      <td>784.275000</td>\n",
       "      <td>1.0</td>\n",
       "      <td>0.344884</td>\n",
       "      <td>-0.069234</td>\n",
       "      <td>-1.614578</td>\n",
       "    </tr>\n",
       "    <tr>\n",
       "      <th>75%</th>\n",
       "      <td>1501.225000</td>\n",
       "      <td>1538.462500</td>\n",
       "      <td>1497.912500</td>\n",
       "      <td>1508.275000</td>\n",
       "      <td>1.0</td>\n",
       "      <td>2.727562</td>\n",
       "      <td>4.381383</td>\n",
       "      <td>6.331225</td>\n",
       "    </tr>\n",
       "    <tr>\n",
       "      <th>max</th>\n",
       "      <td>6350.000000</td>\n",
       "      <td>6750.000000</td>\n",
       "      <td>6305.000000</td>\n",
       "      <td>6469.900000</td>\n",
       "      <td>1.0</td>\n",
       "      <td>23.304473</td>\n",
       "      <td>78.415970</td>\n",
       "      <td>77.496051</td>\n",
       "    </tr>\n",
       "  </tbody>\n",
       "</table>\n",
       "</div>"
      ],
      "text/plain": [
       "              Open         High          Low        Close  Shooting Star  \\\n",
       "count   266.000000   266.000000   266.000000   266.000000          266.0   \n",
       "mean   1216.859023  1268.389098  1210.878008  1224.938346            1.0   \n",
       "std    1290.007135  1344.721994  1283.078810  1297.607201            0.0   \n",
       "min      38.950000    43.900000    38.250000    38.950000            1.0   \n",
       "25%     276.425000   290.700000   276.200000   277.775000            1.0   \n",
       "50%     779.000000   822.275000   773.900000   784.275000            1.0   \n",
       "75%    1501.225000  1538.462500  1497.912500  1508.275000            1.0   \n",
       "max    6350.000000  6750.000000  6305.000000  6469.900000            1.0   \n",
       "\n",
       "       Return % 5 days after  Return % 14 days after  Return % 28 days after  \n",
       "count             266.000000              264.000000              263.000000  \n",
       "mean                0.009960               -0.192218               -1.284491  \n",
       "std                 6.039616               10.595355               15.136507  \n",
       "min               -33.999355              -40.720339              -48.465473  \n",
       "25%                -2.269641               -5.660660               -9.239277  \n",
       "50%                 0.344884               -0.069234               -1.614578  \n",
       "75%                 2.727562                4.381383                6.331225  \n",
       "max                23.304473               78.415970               77.496051  "
      ]
     },
     "execution_count": 30,
     "metadata": {},
     "output_type": "execute_result"
    }
   ],
   "source": [
    "shooting_star_samples.describe()"
   ]
  },
  {
   "cell_type": "code",
   "execution_count": 31,
   "id": "37921a7b",
   "metadata": {},
   "outputs": [
    {
     "data": {
      "text/plain": [
       "Date                      0\n",
       "Open                      0\n",
       "High                      0\n",
       "Low                       0\n",
       "Close                     0\n",
       "Shooting Star             0\n",
       "Return % 5 days after     0\n",
       "Return % 14 days after    2\n",
       "Return % 28 days after    3\n",
       "dtype: int64"
      ]
     },
     "execution_count": 31,
     "metadata": {},
     "output_type": "execute_result"
    }
   ],
   "source": [
    "shooting_star_samples.isna().sum()"
   ]
  },
  {
   "cell_type": "code",
   "execution_count": 32,
   "id": "b9827cfa",
   "metadata": {},
   "outputs": [],
   "source": [
    "shooting_star_samples=shooting_star_samples.dropna()"
   ]
  },
  {
   "cell_type": "markdown",
   "id": "8564a0d8",
   "metadata": {},
   "source": [
    "## 5 days"
   ]
  },
  {
   "cell_type": "code",
   "execution_count": 33,
   "id": "a9702417",
   "metadata": {},
   "outputs": [
    {
     "data": {
      "text/plain": [
       "-0.04446858993124286"
      ]
     },
     "execution_count": 33,
     "metadata": {},
     "output_type": "execute_result"
    }
   ],
   "source": [
    "five_day_mean_ss=shooting_star_samples['Return % 5 days after'].mean()\n",
    "five_day_mean_ss"
   ]
  },
  {
   "cell_type": "code",
   "execution_count": 34,
   "id": "ddf1efdb",
   "metadata": {},
   "outputs": [],
   "source": [
    "five_day_data_ss=shooting_star_samples['Return % 5 days after']"
   ]
  },
  {
   "cell_type": "code",
   "execution_count": 35,
   "id": "50751506",
   "metadata": {},
   "outputs": [
    {
     "name": "stdout",
     "output_type": "stream",
     "text": [
      "The t statistic of our sample is: -0.12 and the corresponding p-value is: 0.45\n"
     ]
    }
   ],
   "source": [
    "t_statistic, p_value = st.ttest_1samp(five_day_data_ss, popmean = 0, alternative = \"less\")\n",
    "print(\"The t statistic of our sample is: {:.2f} and the corresponding p-value is: {:.2f}\".format(t_statistic, p_value))"
   ]
  },
  {
   "cell_type": "code",
   "execution_count": 64,
   "id": "492309ae",
   "metadata": {},
   "outputs": [
    {
     "data": {
      "text/plain": [
       "51.71102661596958"
      ]
     },
     "execution_count": 64,
     "metadata": {},
     "output_type": "execute_result"
    }
   ],
   "source": [
    "(sum(five_day_data_ss>0)/len(five_day_data_ss))*100"
   ]
  },
  {
   "cell_type": "code",
   "execution_count": 53,
   "id": "08093af5",
   "metadata": {},
   "outputs": [
    {
     "name": "stderr",
     "output_type": "stream",
     "text": [
      "/Users/devirughani/opt/anaconda3/lib/python3.9/site-packages/seaborn/distributions.py:2619: FutureWarning: `distplot` is a deprecated function and will be removed in a future version. Please adapt your code to use either `displot` (a figure-level function with similar flexibility) or `kdeplot` (an axes-level function for kernel density plots).\n",
      "  warnings.warn(msg, FutureWarning)\n",
      "No handles with labels found to put in legend.\n"
     ]
    },
    {
     "data": {
      "text/plain": [
       "Text(0, 0.5, 'Density')"
      ]
     },
     "execution_count": 53,
     "metadata": {},
     "output_type": "execute_result"
    },
    {
     "data": {
      "image/png": "[encoded data removed]",
      "text/plain": [
       "<Figure size 432x288 with 1 Axes>"
      ]
     },
     "metadata": {
      "needs_background": "light"
     },
     "output_type": "display_data"
    }
   ],
   "source": [
    "sns.distplot(five_day_data_ss, hist = False, kde = True,\n",
    "                 kde_kws = {'linewidth': 3})\n",
    "plt.legend(prop={'size': 16})\n",
    "plt.xlabel('Return')\n",
    "plt.ylabel('Density')"
   ]
  },
  {
   "cell_type": "markdown",
   "id": "cb93efec",
   "metadata": {},
   "source": [
    "## 14 days"
   ]
  },
  {
   "cell_type": "code",
   "execution_count": 36,
   "id": "678f9ab5",
   "metadata": {},
   "outputs": [
    {
     "data": {
      "text/plain": [
       "-0.2157358504190097"
      ]
     },
     "execution_count": 36,
     "metadata": {},
     "output_type": "execute_result"
    }
   ],
   "source": [
    "fourteen_day_mean_ss=shooting_star_samples['Return % 14 days after'].mean()\n",
    "fourteen_day_mean_ss"
   ]
  },
  {
   "cell_type": "code",
   "execution_count": 37,
   "id": "ce1c66c8",
   "metadata": {},
   "outputs": [],
   "source": [
    "fourteen_day_data_ss=shooting_star_samples['Return % 14 days after']"
   ]
  },
  {
   "cell_type": "code",
   "execution_count": 38,
   "id": "49693f07",
   "metadata": {},
   "outputs": [
    {
     "name": "stdout",
     "output_type": "stream",
     "text": [
      "The t statistic of our sample is: -0.33 and the corresponding p-value is: 0.37\n"
     ]
    }
   ],
   "source": [
    "t_statistic, p_value = st.ttest_1samp(fourteen_day_data_ss, popmean = 0, alternative = \"less\")\n",
    "print(\"The t statistic of our sample is: {:.2f} and the corresponding p-value is: {:.2f}\".format(t_statistic, p_value))"
   ]
  },
  {
   "cell_type": "code",
   "execution_count": 65,
   "id": "c66351e3",
   "metadata": {},
   "outputs": [
    {
     "data": {
      "text/plain": [
       "48.28897338403042"
      ]
     },
     "execution_count": 65,
     "metadata": {},
     "output_type": "execute_result"
    }
   ],
   "source": [
    "(sum(fourteen_day_data_ss>0)/len(fourteen_day_data_ss))*100"
   ]
  },
  {
   "cell_type": "code",
   "execution_count": 54,
   "id": "bb3965d5",
   "metadata": {},
   "outputs": [
    {
     "name": "stderr",
     "output_type": "stream",
     "text": [
      "/Users/devirughani/opt/anaconda3/lib/python3.9/site-packages/seaborn/distributions.py:2619: FutureWarning: `distplot` is a deprecated function and will be removed in a future version. Please adapt your code to use either `displot` (a figure-level function with similar flexibility) or `kdeplot` (an axes-level function for kernel density plots).\n",
      "  warnings.warn(msg, FutureWarning)\n",
      "No handles with labels found to put in legend.\n"
     ]
    },
    {
     "data": {
      "text/plain": [
       "Text(0, 0.5, 'Density')"
      ]
     },
     "execution_count": 54,
     "metadata": {},
     "output_type": "execute_result"
    },
    {
     "data": {
      "image/png": "[encoded data removed]",
      "text/plain": [
       "<Figure size 432x288 with 1 Axes>"
      ]
     },
     "metadata": {
      "needs_background": "light"
     },
     "output_type": "display_data"
    }
   ],
   "source": [
    "sns.distplot(fourteen_day_data_ss, hist = False, kde = True,\n",
    "                 kde_kws = {'linewidth': 3})\n",
    "plt.legend(prop={'size': 16})\n",
    "plt.xlabel('Return')\n",
    "plt.ylabel('Density')"
   ]
  },
  {
   "cell_type": "markdown",
   "id": "20b76992",
   "metadata": {},
   "source": [
    "## 28 days"
   ]
  },
  {
   "cell_type": "code",
   "execution_count": 39,
   "id": "eb8a9bd9",
   "metadata": {},
   "outputs": [
    {
     "data": {
      "text/plain": [
       "-1.2844910710808812"
      ]
     },
     "execution_count": 39,
     "metadata": {},
     "output_type": "execute_result"
    }
   ],
   "source": [
    "twentyeight_day_mean_ss=shooting_star_samples['Return % 28 days after'].mean()\n",
    "twentyeight_day_mean_ss"
   ]
  },
  {
   "cell_type": "code",
   "execution_count": 40,
   "id": "1af3a8ff",
   "metadata": {},
   "outputs": [],
   "source": [
    "twentyeight_day_data_ss=shooting_star_samples['Return % 28 days after']"
   ]
  },
  {
   "cell_type": "code",
   "execution_count": 41,
   "id": "8e4ebccf",
   "metadata": {},
   "outputs": [
    {
     "name": "stdout",
     "output_type": "stream",
     "text": [
      "The t statistic of our sample is: -1.38 and the corresponding p-value is: 0.08\n"
     ]
    }
   ],
   "source": [
    "t_statistic, p_value = st.ttest_1samp(twentyeight_day_data_ss, popmean = 0, alternative = \"less\")\n",
    "print(\"The t statistic of our sample is: {:.2f} and the corresponding p-value is: {:.2f}\".format(t_statistic, p_value))"
   ]
  },
  {
   "cell_type": "code",
   "execution_count": 66,
   "id": "c4c38ef5",
   "metadata": {},
   "outputs": [
    {
     "data": {
      "text/plain": [
       "42.20532319391635"
      ]
     },
     "execution_count": 66,
     "metadata": {},
     "output_type": "execute_result"
    }
   ],
   "source": [
    "(sum(twentyeight_day_data_ss>0)/len(twentyeight_day_data_ss))*100"
   ]
  },
  {
   "cell_type": "code",
   "execution_count": 55,
   "id": "62d1e711",
   "metadata": {},
   "outputs": [
    {
     "name": "stderr",
     "output_type": "stream",
     "text": [
      "/Users/devirughani/opt/anaconda3/lib/python3.9/site-packages/seaborn/distributions.py:2619: FutureWarning: `distplot` is a deprecated function and will be removed in a future version. Please adapt your code to use either `displot` (a figure-level function with similar flexibility) or `kdeplot` (an axes-level function for kernel density plots).\n",
      "  warnings.warn(msg, FutureWarning)\n",
      "No handles with labels found to put in legend.\n"
     ]
    },
    {
     "data": {
      "text/plain": [
       "Text(0, 0.5, 'Density')"
      ]
     },
     "execution_count": 55,
     "metadata": {},
     "output_type": "execute_result"
    },
    {
     "data": {
      "image/png": "[encoded data removed]",
      "text/plain": [
       "<Figure size 432x288 with 1 Axes>"
      ]
     },
     "metadata": {
      "needs_background": "light"
     },
     "output_type": "display_data"
    }
   ],
   "source": [
    "sns.distplot(twentyeight_day_data_ss, hist = False, kde = True,\n",
    "                 kde_kws = {'linewidth': 3})\n",
    "plt.legend(prop={'size': 16})\n",
    "plt.xlabel('Return')\n",
    "plt.ylabel('Density')"
   ]
  },
  {
   "cell_type": "code",
   "execution_count": null,
   "id": "3fe5873b",
   "metadata": {},
   "outputs": [],
   "source": []
  }
 ],
 "metadata": {
  "kernelspec": {
   "display_name": "Python 3 (ipykernel)",
   "language": "python",
   "name": "python3"
  },
  "language_info": {
   "codemirror_mode": {
    "name": "ipython",
    "version": 3
   },
   "file_extension": ".py",
   "mimetype": "text/x-python",
   "name": "python",
   "nbconvert_exporter": "python",
   "pygments_lexer": "ipython3",
   "version": "3.9.12"
  }
 },
 "nbformat": 4,
 "nbformat_minor": 5
}
