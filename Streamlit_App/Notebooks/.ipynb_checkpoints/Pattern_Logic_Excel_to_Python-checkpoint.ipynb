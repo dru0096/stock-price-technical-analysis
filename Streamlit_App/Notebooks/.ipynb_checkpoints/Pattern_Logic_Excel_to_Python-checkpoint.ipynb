{
 "cells": [
  {
   "cell_type": "code",
   "execution_count": null,
   "id": "608c3843",
   "metadata": {},
   "outputs": [],
   "source": [
    "# Hammer logic (excel to python):\n",
    "def hammer_scanner(df, min_wick_ratio=5, min_candle_size=0.4):\n",
    "    \n",
    "    df2 = df.copy()\n",
    "    \n",
    "    # Hammer\n",
    "    for i in range(len(df2)):\n",
    "        cond1 = df2.iloc[i,[1,4]].min() - df2.iloc[i,3] > (df2.iloc[i,2] - df2.iloc[i,[1,4]].max())*min_wick_ratio\n",
    "        cond2 = df2.iloc[i,[1,4]].min() > (df2.iloc[i,3]+((df2.iloc[i,2]-df2.iloc[i,3])/2))\n",
    "        cond3 = df2.iloc[i,3] < df2.iloc[i-10:i,3].min()\n",
    "        cond4 = abs(df2.iloc[i,1]-df2.iloc[i,4])<((df2.iloc[i,2]-df2.iloc[i,3])*min_candle_size)\n",
    "       \n",
    "        if ( ( cond1 == True )  and ( cond2 == True ) and ( cond3 == True ) and (cond4 == True) ):\n",
    "           \n",
    "                df2.iloc[i,6] = 1\n",
    "                print(\"A hammer is formed on\", df2.iloc[i,0])\n",
    "            \n",
    "        else: \n",
    "                df2.iloc[i,6] = 0\n",
    "                \n",
    "    return df2\n"
   ]
  },
  {
   "cell_type": "code",
   "execution_count": null,
   "id": "26b3dfbe",
   "metadata": {},
   "outputs": [],
   "source": [
    "def shooting_star_scanner(df,min_wick_ratio=5, min_candle_size=0.25):\n",
    "    \n",
    "    df2 = df.copy()\n",
    "    \n",
    "    for i in range(len(df2)):\n",
    "        cond1 = ( df2.iloc[i,2] > df2.iloc[i-10:i,2].max() )\n",
    "        x =  df2.iloc[i,2] - df2.iloc[i,[1,4]].max() \n",
    "        y = ( df2.iloc[i,[1,4]].min() - df2.iloc[i,3] ) * min_wick_ratio \n",
    "        cond2 = ( x > y ) \n",
    "        cond3 =  abs( df2.iloc[i,1] - df2.iloc[i,4] ) <  ( df2.iloc[i,2] - df2.iloc[i,3] ) * min_candle_size \n",
    "                 \n",
    "        if ( ( cond1 == True )  and ( cond2 == True ) and ( cond3 == True ) ):\n",
    "                 df2.iloc[i,7] = 1\n",
    "        else: \n",
    "                 df2.iloc[i,7] = 0\n",
    "                 \n",
    "    return df2"
   ]
  }
 ],
 "metadata": {
  "kernelspec": {
   "display_name": "Python 3 (ipykernel)",
   "language": "python",
   "name": "python3"
  },
  "language_info": {
   "codemirror_mode": {
    "name": "ipython",
    "version": 3
   },
   "file_extension": ".py",
   "mimetype": "text/x-python",
   "name": "python",
   "nbconvert_exporter": "python",
   "pygments_lexer": "ipython3",
   "version": "3.9.12"
  }
 },
 "nbformat": 4,
 "nbformat_minor": 5
}
