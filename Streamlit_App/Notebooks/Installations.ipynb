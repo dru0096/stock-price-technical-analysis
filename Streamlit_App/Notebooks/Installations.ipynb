{
 "cells": [
  {
   "cell_type": "code",
   "execution_count": 1,
   "id": "91fbced7",
   "metadata": {},
   "outputs": [
    {
     "name": "stdout",
     "output_type": "stream",
     "text": [
      "\u001b[31mERROR: Could not find a version that satisfies the requirement nasdaqdatalink (from versions: none)\u001b[0m\r\n",
      "\u001b[31mERROR: No matching distribution found for nasdaqdatalink\u001b[0m\r\n"
     ]
    }
   ],
   "source": [
    "!pip install nasdaqdatalink"
   ]
  },
  {
   "cell_type": "code",
   "execution_count": null,
   "id": "dce1fd0b",
   "metadata": {},
   "outputs": [],
   "source": []
  }
 ],
 "metadata": {
  "kernelspec": {
   "display_name": "Python 3 (ipykernel)",
   "language": "python",
   "name": "python3"
  },
  "language_info": {
   "codemirror_mode": {
    "name": "ipython",
    "version": 3
   },
   "file_extension": ".py",
   "mimetype": "text/x-python",
   "name": "python",
   "nbconvert_exporter": "python",
   "pygments_lexer": "ipython3",
   "version": "3.9.12"
  }
 },
 "nbformat": 4,
 "nbformat_minor": 5
}
